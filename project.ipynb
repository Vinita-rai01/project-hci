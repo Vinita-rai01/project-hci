{
 "cells": [
  {
   "cell_type": "code",
   "execution_count": 1,
   "id": "6fc90e2c",
   "metadata": {},
   "outputs": [
    {
     "ename": "SystemExit",
     "evalue": "0",
     "output_type": "error",
     "traceback": [
      "An exception has occurred, use %tb to see the full traceback.\n",
      "\u001b[1;31mSystemExit\u001b[0m\u001b[1;31m:\u001b[0m 0\n"
     ]
    },
    {
     "name": "stderr",
     "output_type": "stream",
     "text": [
      "C:\\Users\\HP\\anaconda3\\lib\\site-packages\\IPython\\core\\interactiveshell.py:3465: UserWarning: To exit: use 'exit', 'quit', or Ctrl-D.\n",
      "  warn(\"To exit: use 'exit', 'quit', or Ctrl-D.\", stacklevel=1)\n"
     ]
    }
   ],
   "source": [
    "import sys\n",
    "from PyQt5.QtCore import QUrl\n",
    "from PyQt5.QtWidgets import QApplication, QWidget, QVBoxLayout, QPushButton, QLabel, QFileDialog\n",
    "from PyQt5.QtMultimedia import QMediaPlayer, QMediaContent\n",
    "\n",
    "class MusicPlayerApp(QWidget):\n",
    "    def __init__(self):\n",
    "        super().__init__()\n",
    "\n",
    "        self.setWindowTitle(\"Music Player\")\n",
    "        self.setGeometry(100, 100, 400, 200)\n",
    "\n",
    "        self.media_player = QMediaPlayer(self)\n",
    "\n",
    "        self.init_ui()\n",
    "\n",
    "    def init_ui(self):\n",
    "        layout = QVBoxLayout()\n",
    "\n",
    "        self.label = QLabel(\"No song selected\")\n",
    "        layout.addWidget(self.label)\n",
    "\n",
    "        self.btn_open = QPushButton(\"Open Song\")\n",
    "        self.btn_open.clicked.connect(self.open_song)\n",
    "        layout.addWidget(self.btn_open)\n",
    "\n",
    "        self.btn_play = QPushButton(\"Play\")\n",
    "        self.btn_play.clicked.connect(self.play_music)\n",
    "        layout.addWidget(self.btn_play)\n",
    "\n",
    "        self.btn_pause = QPushButton(\"Pause\")\n",
    "        self.btn_pause.clicked.connect(self.pause_music)\n",
    "        layout.addWidget(self.btn_pause)\n",
    "\n",
    "        self.btn_stop = QPushButton(\"Stop\")\n",
    "        self.btn_stop.clicked.connect(self.stop_music)\n",
    "        layout.addWidget(self.btn_stop)\n",
    "\n",
    "        self.setLayout(layout)\n",
    "\n",
    "    def open_song(self):\n",
    "        file_dialog = QFileDialog()\n",
    "        song_path, _ = file_dialog.getOpenFileName(self, \"Open Song\", \"\", \"Audio Files (*.mp3 *.wav)\")\n",
    "    \n",
    "        if song_path:\n",
    "            media_content = QMediaContent(QUrl.fromLocalFile(song_path))\n",
    "            self.media_player.setMedia(media_content)\n",
    "            self.label.setText(f\"Playing: {song_path}\")\n",
    "\n",
    "\n",
    "    def play_music(self):\n",
    "        if self.media_player.state() == QMediaPlayer.PlayingState:\n",
    "            self.media_player.pause()\n",
    "        else:\n",
    "            self.media_player.play()\n",
    "\n",
    "    def pause_music(self):\n",
    "        self.media_player.pause()\n",
    "\n",
    "    def stop_music(self):\n",
    "        self.media_player.stop()\n",
    "        self.label.setText(\"No song selected\")\n",
    "\n",
    "if __name__ == \"__main__\":\n",
    "    app = QApplication(sys.argv)\n",
    "    player_app = MusicPlayerApp()\n",
    "    player_app.show()\n",
    "    sys.exit(app.exec_())"
   ]
  },
  {
   "cell_type": "code",
   "execution_count": null,
   "id": "81ee73d9",
   "metadata": {},
   "outputs": [],
   "source": []
  }
 ],
 "metadata": {
  "kernelspec": {
   "display_name": "Python 3 (ipykernel)",
   "language": "python",
   "name": "python3"
  },
  "language_info": {
   "codemirror_mode": {
    "name": "ipython",
    "version": 3
   },
   "file_extension": ".py",
   "mimetype": "text/x-python",
   "name": "python",
   "nbconvert_exporter": "python",
   "pygments_lexer": "ipython3",
   "version": "3.8.12"
  }
 },
 "nbformat": 4,
 "nbformat_minor": 5
}
